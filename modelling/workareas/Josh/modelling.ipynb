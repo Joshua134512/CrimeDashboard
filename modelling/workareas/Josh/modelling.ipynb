{
 "cells": [
  {
   "cell_type": "code",
   "execution_count": 14,
   "metadata": {},
   "outputs": [
    {
     "name": "stdout",
     "output_type": "stream",
     "text": [
      "Index(['State', 'RecidivismRate', 'PrisonPopulation', 'ImprisonmentRate',\n",
      "       'Population', 'qualityoflifetotalscore', 'QualityOfLifeAffordability',\n",
      "       'QualityOfLifeEconomy', 'QualityOfLifeEducationAndHealth',\n",
      "       'QualityOfLifeSafety', 'Male', 'Female', 'Total', 'Rape', 'Arson',\n",
      "       'Fraud', 'Larceny', 'Robbery', 'Runaway', 'Weapons', 'Burglary',\n",
      "       'Gambling', 'Vagrancy', 'Suspicion', 'Vandalism', 'Drunkenness',\n",
      "       'Embezzlement', 'Sex_Offenses', 'Rape_Legacy', 'Simple_Assault',\n",
      "       'Drug_Possession', 'Stolen_Property', 'Human_Trafficking',\n",
      "       'Aggravated_Assault', 'All_Other_Offenses', 'Disorderly_Conduct',\n",
      "       'Motor_Vehicle_Theft', 'Drug_Abuse_Violations', 'Liquor_Law_Violations',\n",
      "       'Counterfeiting_or_Forgery', 'Drug_Sale_or_Manufacturing',\n",
      "       'Drive_Under_the_Influence', 'Manslaughter_by_Negligence',\n",
      "       'Murder_and_Nonnegligent_Homicide',\n",
      "       'Curfew_and_Loitering_Law_Violations',\n",
      "       'Prostitution_and_Commercialized_Vice',\n",
      "       'Offenses_Against_the_Family_and_Children', 'Asian', 'White', 'Unknown',\n",
      "       'Multiple', 'NotSpecified', 'Black', 'NativeAmerican',\n",
      "       'NativeHawaiianOrPacificIslander', 'PercentMale', 'PercentFemale',\n",
      "       'PercentAsian', 'PercentWhite', 'PercentBlack', 'PercentNativeAmerican',\n",
      "       'PercentOfPopInPrison', 'TotalViolentCrimes', 'TotalNonviolentCrimes',\n",
      "       'OtherCrimes', 'AverageQOLScore'],\n",
      "      dtype='object')\n"
     ]
    }
   ],
   "source": [
    "import pandas as pd\n",
    "from os import path, curdir\n",
    "\n",
    "ROOT = path.abspath(curdir)\n",
    "\n",
    "datapath = path.join(ROOT, 'data', 'data.csv')\n",
    "datapath2 = path.join(ROOT, 'data', 'calculations.csv')\n",
    "\n",
    "df = pd.read_csv(datapath)\n",
    "df2 = pd.read_csv(datapath2)\n",
    "df = pd.merge(df, df2, how= 'left', on='State')\n",
    "df = df.iloc[:,1:]\n",
    "df = df.rename(columns={'RecidivismRate_x':'RecidivismRate'})\n",
    "df=df.drop(columns=['Unnamed: 0_y','RecidivismRate_y'])\n",
    "print(df.columns)"
   ]
  },
  {
   "cell_type": "code",
   "execution_count": 15,
   "metadata": {},
   "outputs": [],
   "source": [
    "from sklearn.model_selection import train_test_split\n",
    "X = df[['PercentMale','PercentBlack','PercentWhite']]\n",
    "Y = df['RecidivismRate']\n",
    "X_train, X_test, Y_train, Y_test = train_test_split(X, Y, test_size=0.2, train_size=0.8)\n"
   ]
  },
  {
   "cell_type": "code",
   "execution_count": 16,
   "metadata": {},
   "outputs": [
    {
     "data": {
      "text/plain": [
       "0.0301575318569528"
      ]
     },
     "execution_count": 16,
     "metadata": {},
     "output_type": "execute_result"
    }
   ],
   "source": [
    "from sklearn import linear_model as lm\n",
    "model = lm.LinearRegression()\n",
    "model.fit(X_train,Y_train)\n",
    "model.score(X_train, Y_train)"
   ]
  },
  {
   "cell_type": "code",
   "execution_count": null,
   "metadata": {},
   "outputs": [
    {
     "data": {
      "text/plain": [
       "-2.0836957335993342"
      ]
     },
     "execution_count": 77,
     "metadata": {},
     "output_type": "execute_result"
    }
   ],
   "source": [
    "from sklearn import tree\n",
    "treeModel = tree.DecisionTreeRegressor()\n",
    "treeModel.fit(X_train,Y_train)\n",
    "treeModel.score(X_test,Y_test)"
   ]
  },
  {
   "cell_type": "code",
   "execution_count": 78,
   "metadata": {},
   "outputs": [
    {
     "data": {
      "text/plain": [
       "-0.4531558391455375"
      ]
     },
     "execution_count": 78,
     "metadata": {},
     "output_type": "execute_result"
    }
   ],
   "source": [
    "from sklearn.ensemble import RandomForestRegressor\n",
    "treeModel = RandomForestRegressor()\n",
    "treeModel.fit(X_train, Y_train)\n",
    "treeModel.score(X_test,Y_test)"
   ]
  },
  {
   "cell_type": "code",
   "execution_count": null,
   "metadata": {},
   "outputs": [],
   "source": []
  }
 ],
 "metadata": {
  "kernelspec": {
   "display_name": "Python 3",
   "language": "python",
   "name": "python3"
  },
  "language_info": {
   "codemirror_mode": {
    "name": "ipython",
    "version": 3
   },
   "file_extension": ".py",
   "mimetype": "text/x-python",
   "name": "python",
   "nbconvert_exporter": "python",
   "pygments_lexer": "ipython3",
   "version": "3.10.6"
  }
 },
 "nbformat": 4,
 "nbformat_minor": 2
}
