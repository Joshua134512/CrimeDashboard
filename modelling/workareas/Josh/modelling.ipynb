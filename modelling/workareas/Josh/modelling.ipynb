{
 "cells": [
  {
   "cell_type": "code",
   "execution_count": 138,
   "metadata": {},
   "outputs": [
    {
     "name": "stdout",
     "output_type": "stream",
     "text": [
      "Index(['State', 'RecidivismRate', 'PrisonPopulation', 'ImprisonmentRate',\n",
      "       'Population', 'qualityoflifetotalscore', 'QualityOfLifeAffordability',\n",
      "       'QualityOfLifeEconomy', 'QualityOfLifeEducationAndHealth',\n",
      "       'QualityOfLifeSafety',\n",
      "       ...\n",
      "       'PercentAsian', 'PercentWhite', 'PercentBlack', 'PercentNativeAmerican',\n",
      "       'PercentOfPopInPrison', 'TotalViolentCrimes', 'TotalNonviolentCrimes',\n",
      "       'OtherCrimes', 'AverageQOLScore', 'PercentViolentCrimes'],\n",
      "      dtype='object', length=119)\n"
     ]
    }
   ],
   "source": [
    "import pandas as pd\n",
    "from os import path, curdir\n",
    "\n",
    "ROOT = path.abspath(curdir)\n",
    "\n",
    "datapath = path.join(ROOT, 'data', 'data.csv')\n",
    "datapath2 = path.join(ROOT, 'data', 'calculations.csv')\n",
    "#Join calculations table\n",
    "df = pd.read_csv(datapath)\n",
    "df2 = pd.read_csv(datapath2)\n",
    "df = pd.merge(df, df2, how= 'left', on='State')\n",
    "df = df.iloc[:,1:]\n",
    "df = df.rename(columns={'RecidivismRate_x':'RecidivismRate'})\n",
    "df=df.drop(columns=['Unnamed: 0_y','RecidivismRate_y'])\n",
    "df['PercentViolentCrimes'] = df['TotalViolentCrimes']/(df['TotalViolentCrimes']+df['TotalNonviolentCrimes']+df['OtherCrimes'])\n",
    "print(df.columns)\n",
    "\n"
   ]
  },
  {
   "cell_type": "code",
   "execution_count": 146,
   "metadata": {},
   "outputs": [],
   "source": [
    "features = ['PercentMale', \n",
    "            'PercentAsian',\n",
    "            'PercentWhite',\n",
    "            'PercentBlack',\n",
    "            'PercentNativeAmerican',\n",
    "            'AverageQOLScore',\n",
    "            'PercentViolentCrimes',\n",
    "            'PercentOfPopInPrison']\n",
    "response = ['RecidivismRate']"
   ]
  },
  {
   "cell_type": "code",
   "execution_count": 170,
   "metadata": {},
   "outputs": [],
   "source": [
    "from sklearn.model_selection import train_test_split\n",
    "X = df[features]\n",
    "Y = df[response]\n",
    "X_train, X_test, Y_train, Y_test = train_test_split(X, Y, test_size=0.2, train_size=0.8)\n"
   ]
  },
  {
   "cell_type": "code",
   "execution_count": null,
   "metadata": {},
   "outputs": [
    {
     "name": "stdout",
     "output_type": "stream",
     "text": [
      "Alpha: 0.10; Score: -2.07; MSE: 169.89; R2: -2.07\n"
     ]
    }
   ],
   "source": [
    "from sklearn import linear_model as lm\n",
    "from sklearn.metrics import mean_squared_error, r2_score\n",
    "for i in range(1, 2):\n",
    "    model = lm.LinearRegression()\n",
    "    model.fit(X_train, Y_train)\n",
    "    score = model.score(X_test, Y_test)\n",
    "    y_pred = model.predict(X_test)\n",
    "    mse = mean_squared_error(Y_test, y_pred)\n",
    "    r2 = r2_score(Y_test, y_pred)\n",
    "    print(f\"Alpha: {0.1*i:.2f}; Score: {score:.2f}; MSE: {mse:.2f}; R2: {r2:.2f}\")\n",
    "variable_dict = {\"colnames\": [], \"coefficients\": []}\n",
    "for i in range(len(features)):\n",
    "    if model.coef_[0][i] != 0:\n",
    "        variable_dict[\"colnames\"].append(features[i])\n",
    "        variable_dict[\"coefficients\"].append(model.coef_[0][i])\n",
    "coef_data_frame = pd.DataFrame.from_dict(variable_dict)\n",
    "datapath3 = path.join(ROOT, 'data', 'coefficients.csv')\n",
    "coef_data_frame.to_csv(datapath3)\n",
    "\n",
    "predictions = model.predict(X)\n",
    "data_dict = {'states Y': 'predictedRecidivismRate': predictions[0]}\n",
    "predictDF = pd.DataFrame.from_dict(data_dict)"
   ]
  },
  {
   "cell_type": "code",
   "execution_count": 142,
   "metadata": {},
   "outputs": [
    {
     "data": {
      "text/plain": [
       "-0.964289885803107"
      ]
     },
     "execution_count": 142,
     "metadata": {},
     "output_type": "execute_result"
    }
   ],
   "source": [
    "from sklearn import tree\n",
    "treeModel = tree.DecisionTreeRegressor()\n",
    "treeModel.fit(X_train,Y_train)\n",
    "treeModel.score(X_test,Y_test)"
   ]
  },
  {
   "cell_type": "code",
   "execution_count": null,
   "metadata": {},
   "outputs": [
    {
     "name": "stdout",
     "output_type": "stream",
     "text": [
      "Score: 0.048297424324037275; MSE: 112.77276041666667; R2: 0.048297424324037275\n"
     ]
    }
   ],
   "source": [
    "from numpy import ravel\n",
    "y_train_1d = ravel(Y_train)\n",
    "from sklearn.ensemble import RandomForestRegressor\n",
    "treeModel = RandomForestRegressor(n_estimators=8)\n",
    "treeModel.fit(X_train, y_train_1d)\n",
    "score = treeModel.score(X_test,Y_test)\n",
    "y_pred = treeModel.predict(X_test)\n",
    "mse = mean_squared_error(Y_test, y_pred)\n",
    "r2 = r2_score(Y_test, y_pred)\n",
    "print(f\"Score: {score}; MSE: {mse}; R2: {r2}\")\n",
    "\n",
    "\n"
   ]
  },
  {
   "cell_type": "code",
   "execution_count": null,
   "metadata": {},
   "outputs": [],
   "source": []
  },
  {
   "cell_type": "code",
   "execution_count": 137,
   "metadata": {},
   "outputs": [],
   "source": [
    "import pandas as pd\n",
    "import numpy as np\n",
    "import matplotlib.pyplot as plt\n",
    "import seaborn as sns\n",
    "from sklearn.linear_model import Lasso\n",
    "from sklearn.preprocessing import StandardScaler\n",
    "from sklearn.model_selection import train_test_split\n",
    "from sklearn.metrics import mean_squared_error, r2_score\n",
    "\n",
    "numeric_cols = df.select_dtypes(include=[np.number]).columns  # Select numeric columns\n",
    "df[numeric_cols] = df[numeric_cols].fillna(df[numeric_cols].mean()) \n",
    "\n",
    "# Select relevant features\n",
    "target = 'RecidivismRate'  # Define target variable\n",
    "features = [col for col in df.columns if col != target and col != 'State']  # Drop 'State' if categorical\n",
    "X = df[features]\n",
    "y = df[target]\n",
    "\n",
    "# Scale features\n",
    "scaler = StandardScaler()\n",
    "X_scaled = scaler.fit_transform(X)\n",
    "\n",
    "# Select only numeric columns\n",
    "df_numeric = df.select_dtypes(include=[np.number])"
   ]
  },
  {
   "cell_type": "code",
   "execution_count": 144,
   "metadata": {},
   "outputs": [
    {
     "name": "stdout",
     "output_type": "stream",
     "text": [
      "r2: -0.00812548190243656\n",
      "mse: 150.60075424300408\n",
      "{'colnames': ['PercentBlack', 'PercentNativeAmerican', 'PercentOfPopInPrison'], 'coefficients': [np.float64(2.0917462770175397), np.float64(4.260640782106081), np.float64(0.5781508361011193)]}\n",
      "150.60075424300408\n",
      "-0.00812548190243656\n",
      "c:\\Users\\joshu\\School\\DS-4010\\CrimeFightersRepo\\CrimeDashboard\\modelling\\workareas\\Josh\n"
     ]
    }
   ],
   "source": [
    "model = Lasso(alpha=0.5)\n",
    "\n",
    "X_train, X_test, y_train, y_test = train_test_split(X_scaled, y, test_size=0.2, random_state=42)\n",
    "\n",
    "model.fit(X_train, y_train)\n",
    "y_pred = model.predict(X_test)\n",
    "mse = mean_squared_error(y_test, y_pred)\n",
    "r2 = r2_score(y_test, y_pred)\n",
    "\n",
    "print(f\"r2: {r2}\")\n",
    "print(f\"mse: {mse}\")\n",
    "\n",
    "included_vars = []\n",
    "coefs = []\n",
    "variable_dict = {\"colnames\": [], \"coefficients\": []}\n",
    "\n",
    "for i in range(len(features)):\n",
    "    if model.coef_[i] != 0:\n",
    "        included_vars.append(features[i])\n",
    "        coefs.append(model.coef_[i])\n",
    "        variable_dict[\"colnames\"].append(features[i])\n",
    "        variable_dict[\"coefficients\"].append(model.coef_[i])\n",
    "\n",
    "print(variable_dict)\n",
    "\n",
    "print(mse)\n",
    "print(r2)\n",
    "\n",
    "model.score(X_test, y_test)\n",
    "\n",
    "coef_data_frame = pd.DataFrame.from_dict(variable_dict)\n",
    "print(ROOT)\n",
    "datapath3 = path.join(ROOT, 'data', 'coefficients.csv')\n",
    "coef_data_frame.to_csv(datapath3)\n",
    "\n",
    "\n"
   ]
  },
  {
   "cell_type": "code",
   "execution_count": 32,
   "metadata": {},
   "outputs": [
    {
     "name": "stdout",
     "output_type": "stream",
     "text": [
      "['RecidivismRate', 'PrisonPopulation', 'Population', 'qualityoflifetotalscore', 'QualityOfLifeAffordability', 'QualityOfLifeEconomy', 'QualityOfLifeEducationAndHealth', 'QualityOfLifeSafety', 'Male', 'Female', 'Total', 'Rape', 'Arson', 'Fraud', 'Larceny', 'Robbery', 'Runaway', 'Weapons', 'Burglary', 'Gambling', 'Vagrancy', 'Suspicion', 'Vandalism', 'Drunkenness', 'Embezzlement', 'Sex_Offenses', 'Rape_Legacy', 'Simple_Assault', 'Drug_Possession', 'Stolen_Property', 'Human_Trafficking', 'Aggravated_Assault', 'All_Other_Offenses', 'Disorderly_Conduct', 'Motor_Vehicle_Theft', 'Drug_Abuse_Violations', 'Liquor_Law_Violations', 'Counterfeiting_or_Forgery', 'Drug_Sale_or_Manufacturing', 'Drive_Under_the_Influence', 'Manslaughter_by_Negligence', 'Murder_and_Nonnegligent_Homicide', 'Curfew_and_Loitering_Law_Violations', 'Prostitution_and_Commercialized_Vice', 'Offenses_Against_the_Family_and_Children', 'Asian', 'White', 'Unknown', 'Multiple', 'NotSpecified', 'Black', 'NativeAmerican', 'NativeHawaiianOrPacificIslander', 'Male_Age_15', 'Male_Age_16', 'Male_Age_17', 'Male_Age_18', 'Male_Age_19', 'Male_Age_20', 'Male_Age_21', 'Male_Age_22', 'Male_Age_23', 'Male_Age_24', 'Male_Age_10_12', 'Male_Age_11_12', 'Male_Age_13_14', 'Male_Age_25_29', 'Male_Age_30_34', 'Male_Age_35_39', 'Male_Age_40_44', 'Male_Age_45_49', 'Male_Age_50_54', 'Male_Age_55_59', 'Male_Age_60_64', 'Male_Age_Under_10', 'Male_Age_Under_11', 'Male_Age_65_and_over', 'Male_Age_Adult_Other', 'Male_Age_Juvenile_Other', 'Female_Age_15', 'Female_Age_16', 'Female_Age_17', 'Female_Age_18', 'Female_Age_19', 'Female_Age_20', 'Female_Age_21', 'Female_Age_22', 'Female_Age_23', 'Female_Age_24', 'Female_Age_10_12', 'Female_Age_11_12', 'Female_Age_13_14', 'Female_Age_25_29', 'Female_Age_30_34', 'Female_Age_35_39', 'Female_Age_40_44', 'Female_Age_45_49', 'Female_Age_50_54', 'Female_Age_55_59', 'Female_Age_60_64', 'Female_Age_Under_10', 'Female_Age_Under_11', 'Female_Age_65_and_over', 'Female_Age_Adult_Other', 'Female_Age_Juvenile_Other', 'PercentMale', 'PercentFemale', 'PercentAsian', 'PercentWhite', 'PercentBlack', 'PercentNativeAmerican', 'PercentOfPopInPrison', 'TotalViolentCrimes', 'TotalNonviolentCrimes', 'OtherCrimes', 'AverageQOLScore']\n"
     ]
    }
   ],
   "source": [
    "print(features)"
   ]
  }
 ],
 "metadata": {
  "kernelspec": {
   "display_name": "Python 3",
   "language": "python",
   "name": "python3"
  },
  "language_info": {
   "codemirror_mode": {
    "name": "ipython",
    "version": 3
   },
   "file_extension": ".py",
   "mimetype": "text/x-python",
   "name": "python",
   "nbconvert_exporter": "python",
   "pygments_lexer": "ipython3",
   "version": "3.13.2"
  }
 },
 "nbformat": 4,
 "nbformat_minor": 2
}
